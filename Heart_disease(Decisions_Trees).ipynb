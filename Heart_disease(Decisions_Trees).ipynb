{
  "nbformat": 4,
  "nbformat_minor": 0,
  "metadata": {
    "colab": {
      "name": "Heart disease(Decisions Trees)",
      "provenance": [],
      "collapsed_sections": [],
      "mount_file_id": "10TtSDTCchln0O3LEEN_0YbU78zkk22jF",
      "authorship_tag": "ABX9TyPJN0IjEXBZImiuxwXz3SqO",
      "include_colab_link": true
    },
    "kernelspec": {
      "name": "python3",
      "display_name": "Python 3"
    },
    "language_info": {
      "name": "python"
    }
  },
  "cells": [
    {
      "cell_type": "markdown",
      "metadata": {
        "id": "view-in-github",
        "colab_type": "text"
      },
      "source": [
        "<a href=\"https://colab.research.google.com/github/Samrajan2919/SAM/blob/master/Heart_disease(Decisions_Trees).ipynb\" target=\"_parent\"><img src=\"https://colab.research.google.com/assets/colab-badge.svg\" alt=\"Open In Colab\"/></a>"
      ]
    },
    {
      "cell_type": "markdown",
      "metadata": {
        "id": "jLHJspNZhF-p"
      },
      "source": [
        "Classifiation Tree(used in medical feilds)"
      ]
    },
    {
      "cell_type": "code",
      "metadata": {
        "id": "QIOKC0twgQRa"
      },
      "source": [
        "import numpy as np\n",
        "import pandas as pd\n",
        "import matplotlib.pyplot as plt\n",
        "import seaborn as sns\n",
        "from sklearn.tree import DecisionTreeClassifier\n",
        "from sklearn.tree import plot_tree\n",
        "from sklearn.model_selection import train_test_split\n",
        "from sklearn.model_selection import cross_val_score\n",
        "from sklearn.metrics import confusion_matrix\n",
        "from sklearn.metrics import plot_confusion_matrix"
      ],
      "execution_count": null,
      "outputs": []
    },
    {
      "cell_type": "markdown",
      "metadata": {
        "id": "ObZQVs_5jchx"
      },
      "source": [
        "import  the data"
      ]
    },
    {
      "cell_type": "code",
      "metadata": {
        "colab": {
          "base_uri": "https://localhost:8080/",
          "height": 204
        },
        "id": "xwfg6ntBgXbP",
        "outputId": "3e26025a-97b7-4ca0-9fe5-7fb239464626"
      },
      "source": [
        "df=pd.read_csv('/content/processed.cleveland.data',header=None)\n",
        "df.head()"
      ],
      "execution_count": null,
      "outputs": [
        {
          "output_type": "execute_result",
          "data": {
            "text/html": [
              "<div>\n",
              "<style scoped>\n",
              "    .dataframe tbody tr th:only-of-type {\n",
              "        vertical-align: middle;\n",
              "    }\n",
              "\n",
              "    .dataframe tbody tr th {\n",
              "        vertical-align: top;\n",
              "    }\n",
              "\n",
              "    .dataframe thead th {\n",
              "        text-align: right;\n",
              "    }\n",
              "</style>\n",
              "<table border=\"1\" class=\"dataframe\">\n",
              "  <thead>\n",
              "    <tr style=\"text-align: right;\">\n",
              "      <th></th>\n",
              "      <th>0</th>\n",
              "      <th>1</th>\n",
              "      <th>2</th>\n",
              "      <th>3</th>\n",
              "      <th>4</th>\n",
              "      <th>5</th>\n",
              "      <th>6</th>\n",
              "      <th>7</th>\n",
              "      <th>8</th>\n",
              "      <th>9</th>\n",
              "      <th>10</th>\n",
              "      <th>11</th>\n",
              "      <th>12</th>\n",
              "      <th>13</th>\n",
              "    </tr>\n",
              "  </thead>\n",
              "  <tbody>\n",
              "    <tr>\n",
              "      <th>0</th>\n",
              "      <td>63.0</td>\n",
              "      <td>1.0</td>\n",
              "      <td>1.0</td>\n",
              "      <td>145.0</td>\n",
              "      <td>233.0</td>\n",
              "      <td>1.0</td>\n",
              "      <td>2.0</td>\n",
              "      <td>150.0</td>\n",
              "      <td>0.0</td>\n",
              "      <td>2.3</td>\n",
              "      <td>3.0</td>\n",
              "      <td>0.0</td>\n",
              "      <td>6.0</td>\n",
              "      <td>0</td>\n",
              "    </tr>\n",
              "    <tr>\n",
              "      <th>1</th>\n",
              "      <td>67.0</td>\n",
              "      <td>1.0</td>\n",
              "      <td>4.0</td>\n",
              "      <td>160.0</td>\n",
              "      <td>286.0</td>\n",
              "      <td>0.0</td>\n",
              "      <td>2.0</td>\n",
              "      <td>108.0</td>\n",
              "      <td>1.0</td>\n",
              "      <td>1.5</td>\n",
              "      <td>2.0</td>\n",
              "      <td>3.0</td>\n",
              "      <td>3.0</td>\n",
              "      <td>2</td>\n",
              "    </tr>\n",
              "    <tr>\n",
              "      <th>2</th>\n",
              "      <td>67.0</td>\n",
              "      <td>1.0</td>\n",
              "      <td>4.0</td>\n",
              "      <td>120.0</td>\n",
              "      <td>229.0</td>\n",
              "      <td>0.0</td>\n",
              "      <td>2.0</td>\n",
              "      <td>129.0</td>\n",
              "      <td>1.0</td>\n",
              "      <td>2.6</td>\n",
              "      <td>2.0</td>\n",
              "      <td>2.0</td>\n",
              "      <td>7.0</td>\n",
              "      <td>1</td>\n",
              "    </tr>\n",
              "    <tr>\n",
              "      <th>3</th>\n",
              "      <td>37.0</td>\n",
              "      <td>1.0</td>\n",
              "      <td>3.0</td>\n",
              "      <td>130.0</td>\n",
              "      <td>250.0</td>\n",
              "      <td>0.0</td>\n",
              "      <td>0.0</td>\n",
              "      <td>187.0</td>\n",
              "      <td>0.0</td>\n",
              "      <td>3.5</td>\n",
              "      <td>3.0</td>\n",
              "      <td>0.0</td>\n",
              "      <td>3.0</td>\n",
              "      <td>0</td>\n",
              "    </tr>\n",
              "    <tr>\n",
              "      <th>4</th>\n",
              "      <td>41.0</td>\n",
              "      <td>0.0</td>\n",
              "      <td>2.0</td>\n",
              "      <td>130.0</td>\n",
              "      <td>204.0</td>\n",
              "      <td>0.0</td>\n",
              "      <td>2.0</td>\n",
              "      <td>172.0</td>\n",
              "      <td>0.0</td>\n",
              "      <td>1.4</td>\n",
              "      <td>1.0</td>\n",
              "      <td>0.0</td>\n",
              "      <td>3.0</td>\n",
              "      <td>0</td>\n",
              "    </tr>\n",
              "  </tbody>\n",
              "</table>\n",
              "</div>"
            ],
            "text/plain": [
              "     0    1    2      3      4    5    6      7    8    9    10   11   12  13\n",
              "0  63.0  1.0  1.0  145.0  233.0  1.0  2.0  150.0  0.0  2.3  3.0  0.0  6.0   0\n",
              "1  67.0  1.0  4.0  160.0  286.0  0.0  2.0  108.0  1.0  1.5  2.0  3.0  3.0   2\n",
              "2  67.0  1.0  4.0  120.0  229.0  0.0  2.0  129.0  1.0  2.6  2.0  2.0  7.0   1\n",
              "3  37.0  1.0  3.0  130.0  250.0  0.0  0.0  187.0  0.0  3.5  3.0  0.0  3.0   0\n",
              "4  41.0  0.0  2.0  130.0  204.0  0.0  2.0  172.0  0.0  1.4  1.0  0.0  3.0   0"
            ]
          },
          "metadata": {
            "tags": []
          },
          "execution_count": 4
        }
      ]
    },
    {
      "cell_type": "markdown",
      "metadata": {
        "id": "dvSaBSF0lmpP"
      },
      "source": [
        "since the columns has no names will name it\n",
        "age\n",
        "sex\n",
        "chestpain\n",
        "restbp:resting bp in mm Hg\n",
        "chol:sertum cholesterol in mg/dl\n",
        "fbs:fasting blood sugar\n",
        "restecg:resting electrcardiograpphic result\n",
        "thalach:max heart rate ahcived\n",
        "exang:excerse induced angina\n",
        "oldpeak:st depression induced by excerse relative rest\n",
        "slope: slope of peej excersice st segment\n",
        "ca:number of majar vessels (0-3) colored by flutoscopy\n",
        "thal: thalium heart scan\n",
        "hd:diagnisis of heart dieses to predited\n"
      ]
    },
    {
      "cell_type": "code",
      "metadata": {
        "id": "l1GefS9ZiPwM"
      },
      "source": [
        "df.columns=['age',\n",
        "'sex',\n",
        "'chestpain',\n",
        "'restbp',\n",
        "'chol',\n",
        "'fbs',\n",
        "'restecg',\n",
        "'thalach',\n",
        "'exang',\n",
        "'oldpeak',\n",
        "'slope',\n",
        "'ca',\n",
        "'thal',\n",
        "'hd']"
      ],
      "execution_count": null,
      "outputs": []
    },
    {
      "cell_type": "code",
      "metadata": {
        "colab": {
          "base_uri": "https://localhost:8080/",
          "height": 204
        },
        "id": "-EWo1twViP0X",
        "outputId": "d7dc2e6f-96a7-478a-f00e-b35def202088"
      },
      "source": [
        "df .head()"
      ],
      "execution_count": null,
      "outputs": [
        {
          "output_type": "execute_result",
          "data": {
            "text/html": [
              "<div>\n",
              "<style scoped>\n",
              "    .dataframe tbody tr th:only-of-type {\n",
              "        vertical-align: middle;\n",
              "    }\n",
              "\n",
              "    .dataframe tbody tr th {\n",
              "        vertical-align: top;\n",
              "    }\n",
              "\n",
              "    .dataframe thead th {\n",
              "        text-align: right;\n",
              "    }\n",
              "</style>\n",
              "<table border=\"1\" class=\"dataframe\">\n",
              "  <thead>\n",
              "    <tr style=\"text-align: right;\">\n",
              "      <th></th>\n",
              "      <th>age</th>\n",
              "      <th>sex</th>\n",
              "      <th>chestpain</th>\n",
              "      <th>restbp</th>\n",
              "      <th>chol</th>\n",
              "      <th>fbs</th>\n",
              "      <th>restecg</th>\n",
              "      <th>thalach</th>\n",
              "      <th>exang</th>\n",
              "      <th>oldpeak</th>\n",
              "      <th>slope</th>\n",
              "      <th>ca</th>\n",
              "      <th>thal</th>\n",
              "      <th>hd</th>\n",
              "    </tr>\n",
              "  </thead>\n",
              "  <tbody>\n",
              "    <tr>\n",
              "      <th>0</th>\n",
              "      <td>63.0</td>\n",
              "      <td>1.0</td>\n",
              "      <td>1.0</td>\n",
              "      <td>145.0</td>\n",
              "      <td>233.0</td>\n",
              "      <td>1.0</td>\n",
              "      <td>2.0</td>\n",
              "      <td>150.0</td>\n",
              "      <td>0.0</td>\n",
              "      <td>2.3</td>\n",
              "      <td>3.0</td>\n",
              "      <td>0.0</td>\n",
              "      <td>6.0</td>\n",
              "      <td>0</td>\n",
              "    </tr>\n",
              "    <tr>\n",
              "      <th>1</th>\n",
              "      <td>67.0</td>\n",
              "      <td>1.0</td>\n",
              "      <td>4.0</td>\n",
              "      <td>160.0</td>\n",
              "      <td>286.0</td>\n",
              "      <td>0.0</td>\n",
              "      <td>2.0</td>\n",
              "      <td>108.0</td>\n",
              "      <td>1.0</td>\n",
              "      <td>1.5</td>\n",
              "      <td>2.0</td>\n",
              "      <td>3.0</td>\n",
              "      <td>3.0</td>\n",
              "      <td>2</td>\n",
              "    </tr>\n",
              "    <tr>\n",
              "      <th>2</th>\n",
              "      <td>67.0</td>\n",
              "      <td>1.0</td>\n",
              "      <td>4.0</td>\n",
              "      <td>120.0</td>\n",
              "      <td>229.0</td>\n",
              "      <td>0.0</td>\n",
              "      <td>2.0</td>\n",
              "      <td>129.0</td>\n",
              "      <td>1.0</td>\n",
              "      <td>2.6</td>\n",
              "      <td>2.0</td>\n",
              "      <td>2.0</td>\n",
              "      <td>7.0</td>\n",
              "      <td>1</td>\n",
              "    </tr>\n",
              "    <tr>\n",
              "      <th>3</th>\n",
              "      <td>37.0</td>\n",
              "      <td>1.0</td>\n",
              "      <td>3.0</td>\n",
              "      <td>130.0</td>\n",
              "      <td>250.0</td>\n",
              "      <td>0.0</td>\n",
              "      <td>0.0</td>\n",
              "      <td>187.0</td>\n",
              "      <td>0.0</td>\n",
              "      <td>3.5</td>\n",
              "      <td>3.0</td>\n",
              "      <td>0.0</td>\n",
              "      <td>3.0</td>\n",
              "      <td>0</td>\n",
              "    </tr>\n",
              "    <tr>\n",
              "      <th>4</th>\n",
              "      <td>41.0</td>\n",
              "      <td>0.0</td>\n",
              "      <td>2.0</td>\n",
              "      <td>130.0</td>\n",
              "      <td>204.0</td>\n",
              "      <td>0.0</td>\n",
              "      <td>2.0</td>\n",
              "      <td>172.0</td>\n",
              "      <td>0.0</td>\n",
              "      <td>1.4</td>\n",
              "      <td>1.0</td>\n",
              "      <td>0.0</td>\n",
              "      <td>3.0</td>\n",
              "      <td>0</td>\n",
              "    </tr>\n",
              "  </tbody>\n",
              "</table>\n",
              "</div>"
            ],
            "text/plain": [
              "    age  sex  chestpain  restbp   chol  ...  oldpeak  slope   ca  thal  hd\n",
              "0  63.0  1.0        1.0   145.0  233.0  ...      2.3    3.0  0.0   6.0   0\n",
              "1  67.0  1.0        4.0   160.0  286.0  ...      1.5    2.0  3.0   3.0   2\n",
              "2  67.0  1.0        4.0   120.0  229.0  ...      2.6    2.0  2.0   7.0   1\n",
              "3  37.0  1.0        3.0   130.0  250.0  ...      3.5    3.0  0.0   3.0   0\n",
              "4  41.0  0.0        2.0   130.0  204.0  ...      1.4    1.0  0.0   3.0   0\n",
              "\n",
              "[5 rows x 14 columns]"
            ]
          },
          "metadata": {
            "tags": []
          },
          "execution_count": 6
        }
      ]
    },
    {
      "cell_type": "code",
      "metadata": {
        "colab": {
          "base_uri": "https://localhost:8080/"
        },
        "id": "JTy71DOriP3z",
        "outputId": "dbbed0a7-fff1-49e9-a5a5-a4fbee74d75e"
      },
      "source": [
        "df.info()"
      ],
      "execution_count": null,
      "outputs": [
        {
          "output_type": "stream",
          "text": [
            "<class 'pandas.core.frame.DataFrame'>\n",
            "RangeIndex: 303 entries, 0 to 302\n",
            "Data columns (total 14 columns):\n",
            " #   Column     Non-Null Count  Dtype  \n",
            "---  ------     --------------  -----  \n",
            " 0   age        303 non-null    float64\n",
            " 1   sex        303 non-null    float64\n",
            " 2   chestpain  303 non-null    float64\n",
            " 3   restbp     303 non-null    float64\n",
            " 4   chol       303 non-null    float64\n",
            " 5   fbs        303 non-null    float64\n",
            " 6   restecg    303 non-null    float64\n",
            " 7   thalach    303 non-null    float64\n",
            " 8   exang      303 non-null    float64\n",
            " 9   oldpeak    303 non-null    float64\n",
            " 10  slope      303 non-null    float64\n",
            " 11  ca         303 non-null    object \n",
            " 12  thal       303 non-null    object \n",
            " 13  hd         303 non-null    int64  \n",
            "dtypes: float64(11), int64(1), object(2)\n",
            "memory usage: 33.3+ KB\n"
          ],
          "name": "stdout"
        }
      ]
    },
    {
      "cell_type": "markdown",
      "metadata": {
        "id": "wcQdUvN2ol8k"
      },
      "source": [
        "Dealing with Missing data"
      ]
    },
    {
      "cell_type": "code",
      "metadata": {
        "colab": {
          "base_uri": "https://localhost:8080/"
        },
        "id": "N3GWI1H8iP73",
        "outputId": "981daaa2-dd8e-45fb-c643-72cd1b78c9d6"
      },
      "source": [
        "df.isna().sum()"
      ],
      "execution_count": null,
      "outputs": [
        {
          "output_type": "execute_result",
          "data": {
            "text/plain": [
              "age          0\n",
              "sex          0\n",
              "chestpain    0\n",
              "restbp       0\n",
              "chol         0\n",
              "fbs          0\n",
              "restecg      0\n",
              "thalach      0\n",
              "exang        0\n",
              "oldpeak      0\n",
              "slope        0\n",
              "ca           0\n",
              "thal         0\n",
              "hd           0\n",
              "dtype: int64"
            ]
          },
          "metadata": {
            "tags": []
          },
          "execution_count": 8
        }
      ]
    },
    {
      "cell_type": "markdown",
      "metadata": {
        "id": "_Lzv4T7EpE-P"
      },
      "source": [
        "Print out the unique value in object columns(mixture of number and letters)"
      ]
    },
    {
      "cell_type": "code",
      "metadata": {
        "colab": {
          "base_uri": "https://localhost:8080/"
        },
        "id": "2nkMHJVBiP_G",
        "outputId": "933dd4c7-75d7-4966-ce6d-746749106e5d"
      },
      "source": [
        "df['ca'].unique()"
      ],
      "execution_count": null,
      "outputs": [
        {
          "output_type": "execute_result",
          "data": {
            "text/plain": [
              "array(['0.0', '3.0', '2.0', '1.0', '?'], dtype=object)"
            ]
          },
          "metadata": {
            "tags": []
          },
          "execution_count": 9
        }
      ]
    },
    {
      "cell_type": "markdown",
      "metadata": {
        "id": "DV8-xIp1py8n"
      },
      "source": [
        "? missing value"
      ]
    },
    {
      "cell_type": "code",
      "metadata": {
        "colab": {
          "base_uri": "https://localhost:8080/"
        },
        "id": "R-Az8W8YiQDw",
        "outputId": "a088805c-4a95-4b57-bb5b-c45dc862933a"
      },
      "source": [
        "df['thal'].unique()"
      ],
      "execution_count": null,
      "outputs": [
        {
          "output_type": "execute_result",
          "data": {
            "text/plain": [
              "array(['6.0', '3.0', '7.0', '?'], dtype=object)"
            ]
          },
          "metadata": {
            "tags": []
          },
          "execution_count": 10
        }
      ]
    },
    {
      "cell_type": "code",
      "metadata": {
        "colab": {
          "base_uri": "https://localhost:8080/"
        },
        "id": "uZC1sipkiQHQ",
        "outputId": "3b605fd2-ca07-4714-940f-5003b68d2d1c"
      },
      "source": [
        "#print the number of rows with missing data\n",
        "len(df.loc[(df['ca']=='?')\n",
        "          |\n",
        "          (df['thal']=='?')])"
      ],
      "execution_count": null,
      "outputs": [
        {
          "output_type": "execute_result",
          "data": {
            "text/plain": [
              "6"
            ]
          },
          "metadata": {
            "tags": []
          },
          "execution_count": 11
        }
      ]
    },
    {
      "cell_type": "markdown",
      "metadata": {
        "id": "ir402HYjriKy"
      },
      "source": [
        "since oly six rows so we can look into it"
      ]
    },
    {
      "cell_type": "code",
      "metadata": {
        "colab": {
          "base_uri": "https://localhost:8080/",
          "height": 235
        },
        "id": "xNy6ZieBiQK0",
        "outputId": "4728f72b-e32d-4ed4-998f-6f0eb5b5fd94"
      },
      "source": [
        "df.loc[(df['ca']=='?')\n",
        "          |\n",
        "          (df['thal']=='?')]\n"
      ],
      "execution_count": null,
      "outputs": [
        {
          "output_type": "execute_result",
          "data": {
            "text/html": [
              "<div>\n",
              "<style scoped>\n",
              "    .dataframe tbody tr th:only-of-type {\n",
              "        vertical-align: middle;\n",
              "    }\n",
              "\n",
              "    .dataframe tbody tr th {\n",
              "        vertical-align: top;\n",
              "    }\n",
              "\n",
              "    .dataframe thead th {\n",
              "        text-align: right;\n",
              "    }\n",
              "</style>\n",
              "<table border=\"1\" class=\"dataframe\">\n",
              "  <thead>\n",
              "    <tr style=\"text-align: right;\">\n",
              "      <th></th>\n",
              "      <th>age</th>\n",
              "      <th>sex</th>\n",
              "      <th>chestpain</th>\n",
              "      <th>restbp</th>\n",
              "      <th>chol</th>\n",
              "      <th>fbs</th>\n",
              "      <th>restecg</th>\n",
              "      <th>thalach</th>\n",
              "      <th>exang</th>\n",
              "      <th>oldpeak</th>\n",
              "      <th>slope</th>\n",
              "      <th>ca</th>\n",
              "      <th>thal</th>\n",
              "      <th>hd</th>\n",
              "    </tr>\n",
              "  </thead>\n",
              "  <tbody>\n",
              "    <tr>\n",
              "      <th>87</th>\n",
              "      <td>53.0</td>\n",
              "      <td>0.0</td>\n",
              "      <td>3.0</td>\n",
              "      <td>128.0</td>\n",
              "      <td>216.0</td>\n",
              "      <td>0.0</td>\n",
              "      <td>2.0</td>\n",
              "      <td>115.0</td>\n",
              "      <td>0.0</td>\n",
              "      <td>0.0</td>\n",
              "      <td>1.0</td>\n",
              "      <td>0.0</td>\n",
              "      <td>?</td>\n",
              "      <td>0</td>\n",
              "    </tr>\n",
              "    <tr>\n",
              "      <th>166</th>\n",
              "      <td>52.0</td>\n",
              "      <td>1.0</td>\n",
              "      <td>3.0</td>\n",
              "      <td>138.0</td>\n",
              "      <td>223.0</td>\n",
              "      <td>0.0</td>\n",
              "      <td>0.0</td>\n",
              "      <td>169.0</td>\n",
              "      <td>0.0</td>\n",
              "      <td>0.0</td>\n",
              "      <td>1.0</td>\n",
              "      <td>?</td>\n",
              "      <td>3.0</td>\n",
              "      <td>0</td>\n",
              "    </tr>\n",
              "    <tr>\n",
              "      <th>192</th>\n",
              "      <td>43.0</td>\n",
              "      <td>1.0</td>\n",
              "      <td>4.0</td>\n",
              "      <td>132.0</td>\n",
              "      <td>247.0</td>\n",
              "      <td>1.0</td>\n",
              "      <td>2.0</td>\n",
              "      <td>143.0</td>\n",
              "      <td>1.0</td>\n",
              "      <td>0.1</td>\n",
              "      <td>2.0</td>\n",
              "      <td>?</td>\n",
              "      <td>7.0</td>\n",
              "      <td>1</td>\n",
              "    </tr>\n",
              "    <tr>\n",
              "      <th>266</th>\n",
              "      <td>52.0</td>\n",
              "      <td>1.0</td>\n",
              "      <td>4.0</td>\n",
              "      <td>128.0</td>\n",
              "      <td>204.0</td>\n",
              "      <td>1.0</td>\n",
              "      <td>0.0</td>\n",
              "      <td>156.0</td>\n",
              "      <td>1.0</td>\n",
              "      <td>1.0</td>\n",
              "      <td>2.0</td>\n",
              "      <td>0.0</td>\n",
              "      <td>?</td>\n",
              "      <td>2</td>\n",
              "    </tr>\n",
              "    <tr>\n",
              "      <th>287</th>\n",
              "      <td>58.0</td>\n",
              "      <td>1.0</td>\n",
              "      <td>2.0</td>\n",
              "      <td>125.0</td>\n",
              "      <td>220.0</td>\n",
              "      <td>0.0</td>\n",
              "      <td>0.0</td>\n",
              "      <td>144.0</td>\n",
              "      <td>0.0</td>\n",
              "      <td>0.4</td>\n",
              "      <td>2.0</td>\n",
              "      <td>?</td>\n",
              "      <td>7.0</td>\n",
              "      <td>0</td>\n",
              "    </tr>\n",
              "    <tr>\n",
              "      <th>302</th>\n",
              "      <td>38.0</td>\n",
              "      <td>1.0</td>\n",
              "      <td>3.0</td>\n",
              "      <td>138.0</td>\n",
              "      <td>175.0</td>\n",
              "      <td>0.0</td>\n",
              "      <td>0.0</td>\n",
              "      <td>173.0</td>\n",
              "      <td>0.0</td>\n",
              "      <td>0.0</td>\n",
              "      <td>1.0</td>\n",
              "      <td>?</td>\n",
              "      <td>3.0</td>\n",
              "      <td>0</td>\n",
              "    </tr>\n",
              "  </tbody>\n",
              "</table>\n",
              "</div>"
            ],
            "text/plain": [
              "      age  sex  chestpain  restbp   chol  ...  oldpeak  slope   ca  thal  hd\n",
              "87   53.0  0.0        3.0   128.0  216.0  ...      0.0    1.0  0.0     ?   0\n",
              "166  52.0  1.0        3.0   138.0  223.0  ...      0.0    1.0    ?   3.0   0\n",
              "192  43.0  1.0        4.0   132.0  247.0  ...      0.1    2.0    ?   7.0   1\n",
              "266  52.0  1.0        4.0   128.0  204.0  ...      1.0    2.0  0.0     ?   2\n",
              "287  58.0  1.0        2.0   125.0  220.0  ...      0.4    2.0    ?   7.0   0\n",
              "302  38.0  1.0        3.0   138.0  175.0  ...      0.0    1.0    ?   3.0   0\n",
              "\n",
              "[6 rows x 14 columns]"
            ]
          },
          "metadata": {
            "tags": []
          },
          "execution_count": 12
        }
      ]
    },
    {
      "cell_type": "markdown",
      "metadata": {
        "id": "ReGhOGgQruT_"
      },
      "source": [
        "total rows"
      ]
    },
    {
      "cell_type": "code",
      "metadata": {
        "colab": {
          "base_uri": "https://localhost:8080/"
        },
        "id": "7wSVPZyKroCO",
        "outputId": "2645e117-34ea-4b8e-b8f5-7b4dcbaee05f"
      },
      "source": [
        "len(df)"
      ],
      "execution_count": null,
      "outputs": [
        {
          "output_type": "execute_result",
          "data": {
            "text/plain": [
              "303"
            ]
          },
          "metadata": {
            "tags": []
          },
          "execution_count": 13
        }
      ]
    },
    {
      "cell_type": "code",
      "metadata": {
        "id": "9Hs2v_Rnr0uo"
      },
      "source": [
        "data_no_missing=df.loc[(df['ca']!='?')\n",
        "          &\n",
        "          (df['thal']!='?')]"
      ],
      "execution_count": null,
      "outputs": []
    },
    {
      "cell_type": "code",
      "metadata": {
        "colab": {
          "base_uri": "https://localhost:8080/"
        },
        "id": "9f1zR5MWr06F",
        "outputId": "a7ae8efd-f256-46b7-ab23-6948fdbaba21"
      },
      "source": [
        "len(data_no_missing)"
      ],
      "execution_count": null,
      "outputs": [
        {
          "output_type": "execute_result",
          "data": {
            "text/plain": [
              "297"
            ]
          },
          "metadata": {
            "tags": []
          },
          "execution_count": 15
        }
      ]
    },
    {
      "cell_type": "code",
      "metadata": {
        "colab": {
          "base_uri": "https://localhost:8080/"
        },
        "id": "knlM_Fvfr1Bp",
        "outputId": "40b1da0a-7aaf-453f-d2df-61187518f021"
      },
      "source": [
        "data_no_missing['ca'].unique()"
      ],
      "execution_count": null,
      "outputs": [
        {
          "output_type": "execute_result",
          "data": {
            "text/plain": [
              "array(['0.0', '3.0', '2.0', '1.0'], dtype=object)"
            ]
          },
          "metadata": {
            "tags": []
          },
          "execution_count": 16
        }
      ]
    },
    {
      "cell_type": "code",
      "metadata": {
        "colab": {
          "base_uri": "https://localhost:8080/"
        },
        "id": "xqL-wFxlsvWS",
        "outputId": "d65a3866-f9f2-439a-99a4-47d4b9ad722c"
      },
      "source": [
        "data_no_missing['thal'].unique()"
      ],
      "execution_count": null,
      "outputs": [
        {
          "output_type": "execute_result",
          "data": {
            "text/plain": [
              "array(['6.0', '3.0', '7.0'], dtype=object)"
            ]
          },
          "metadata": {
            "tags": []
          },
          "execution_count": 17
        }
      ]
    },
    {
      "cell_type": "markdown",
      "metadata": {
        "id": "lFO-jLTws2vz"
      },
      "source": [
        "Formatting data set\n",
        "1). dependent and indepent varible"
      ]
    },
    {
      "cell_type": "code",
      "metadata": {
        "colab": {
          "base_uri": "https://localhost:8080/",
          "height": 204
        },
        "id": "PYgVscyvsyPB",
        "outputId": "0169b839-acb3-46f4-fb5c-7765817dcdf1"
      },
      "source": [
        "X=data_no_missing.drop('hd',axis=1).copy() #data.iloc[:,:-1]\n",
        "X.head()"
      ],
      "execution_count": null,
      "outputs": [
        {
          "output_type": "execute_result",
          "data": {
            "text/html": [
              "<div>\n",
              "<style scoped>\n",
              "    .dataframe tbody tr th:only-of-type {\n",
              "        vertical-align: middle;\n",
              "    }\n",
              "\n",
              "    .dataframe tbody tr th {\n",
              "        vertical-align: top;\n",
              "    }\n",
              "\n",
              "    .dataframe thead th {\n",
              "        text-align: right;\n",
              "    }\n",
              "</style>\n",
              "<table border=\"1\" class=\"dataframe\">\n",
              "  <thead>\n",
              "    <tr style=\"text-align: right;\">\n",
              "      <th></th>\n",
              "      <th>age</th>\n",
              "      <th>sex</th>\n",
              "      <th>chestpain</th>\n",
              "      <th>restbp</th>\n",
              "      <th>chol</th>\n",
              "      <th>fbs</th>\n",
              "      <th>restecg</th>\n",
              "      <th>thalach</th>\n",
              "      <th>exang</th>\n",
              "      <th>oldpeak</th>\n",
              "      <th>slope</th>\n",
              "      <th>ca</th>\n",
              "      <th>thal</th>\n",
              "    </tr>\n",
              "  </thead>\n",
              "  <tbody>\n",
              "    <tr>\n",
              "      <th>0</th>\n",
              "      <td>63.0</td>\n",
              "      <td>1.0</td>\n",
              "      <td>1.0</td>\n",
              "      <td>145.0</td>\n",
              "      <td>233.0</td>\n",
              "      <td>1.0</td>\n",
              "      <td>2.0</td>\n",
              "      <td>150.0</td>\n",
              "      <td>0.0</td>\n",
              "      <td>2.3</td>\n",
              "      <td>3.0</td>\n",
              "      <td>0.0</td>\n",
              "      <td>6.0</td>\n",
              "    </tr>\n",
              "    <tr>\n",
              "      <th>1</th>\n",
              "      <td>67.0</td>\n",
              "      <td>1.0</td>\n",
              "      <td>4.0</td>\n",
              "      <td>160.0</td>\n",
              "      <td>286.0</td>\n",
              "      <td>0.0</td>\n",
              "      <td>2.0</td>\n",
              "      <td>108.0</td>\n",
              "      <td>1.0</td>\n",
              "      <td>1.5</td>\n",
              "      <td>2.0</td>\n",
              "      <td>3.0</td>\n",
              "      <td>3.0</td>\n",
              "    </tr>\n",
              "    <tr>\n",
              "      <th>2</th>\n",
              "      <td>67.0</td>\n",
              "      <td>1.0</td>\n",
              "      <td>4.0</td>\n",
              "      <td>120.0</td>\n",
              "      <td>229.0</td>\n",
              "      <td>0.0</td>\n",
              "      <td>2.0</td>\n",
              "      <td>129.0</td>\n",
              "      <td>1.0</td>\n",
              "      <td>2.6</td>\n",
              "      <td>2.0</td>\n",
              "      <td>2.0</td>\n",
              "      <td>7.0</td>\n",
              "    </tr>\n",
              "    <tr>\n",
              "      <th>3</th>\n",
              "      <td>37.0</td>\n",
              "      <td>1.0</td>\n",
              "      <td>3.0</td>\n",
              "      <td>130.0</td>\n",
              "      <td>250.0</td>\n",
              "      <td>0.0</td>\n",
              "      <td>0.0</td>\n",
              "      <td>187.0</td>\n",
              "      <td>0.0</td>\n",
              "      <td>3.5</td>\n",
              "      <td>3.0</td>\n",
              "      <td>0.0</td>\n",
              "      <td>3.0</td>\n",
              "    </tr>\n",
              "    <tr>\n",
              "      <th>4</th>\n",
              "      <td>41.0</td>\n",
              "      <td>0.0</td>\n",
              "      <td>2.0</td>\n",
              "      <td>130.0</td>\n",
              "      <td>204.0</td>\n",
              "      <td>0.0</td>\n",
              "      <td>2.0</td>\n",
              "      <td>172.0</td>\n",
              "      <td>0.0</td>\n",
              "      <td>1.4</td>\n",
              "      <td>1.0</td>\n",
              "      <td>0.0</td>\n",
              "      <td>3.0</td>\n",
              "    </tr>\n",
              "  </tbody>\n",
              "</table>\n",
              "</div>"
            ],
            "text/plain": [
              "    age  sex  chestpain  restbp   chol  ...  exang  oldpeak  slope   ca  thal\n",
              "0  63.0  1.0        1.0   145.0  233.0  ...    0.0      2.3    3.0  0.0   6.0\n",
              "1  67.0  1.0        4.0   160.0  286.0  ...    1.0      1.5    2.0  3.0   3.0\n",
              "2  67.0  1.0        4.0   120.0  229.0  ...    1.0      2.6    2.0  2.0   7.0\n",
              "3  37.0  1.0        3.0   130.0  250.0  ...    0.0      3.5    3.0  0.0   3.0\n",
              "4  41.0  0.0        2.0   130.0  204.0  ...    0.0      1.4    1.0  0.0   3.0\n",
              "\n",
              "[5 rows x 13 columns]"
            ]
          },
          "metadata": {
            "tags": []
          },
          "execution_count": 18
        }
      ]
    },
    {
      "cell_type": "code",
      "metadata": {
        "colab": {
          "base_uri": "https://localhost:8080/"
        },
        "id": "IV79ewzvsvf3",
        "outputId": "b82bb03a-2219-4c53-c0b9-82788f6d9472"
      },
      "source": [
        "y=data_no_missing['hd'].copy()\n",
        "y.head()"
      ],
      "execution_count": null,
      "outputs": [
        {
          "output_type": "execute_result",
          "data": {
            "text/plain": [
              "0    0\n",
              "1    2\n",
              "2    1\n",
              "3    0\n",
              "4    0\n",
              "Name: hd, dtype: int64"
            ]
          },
          "metadata": {
            "tags": []
          },
          "execution_count": 19
        }
      ]
    },
    {
      "cell_type": "markdown",
      "metadata": {
        "id": "xcNLGi__tyv9"
      },
      "source": [
        "One hot encoding"
      ]
    },
    {
      "cell_type": "code",
      "metadata": {
        "colab": {
          "base_uri": "https://localhost:8080/"
        },
        "id": "cjcTpuMFsvjP",
        "outputId": "6e69958a-3c65-4267-d71f-b25aa6bfa00b"
      },
      "source": [
        "X.info()"
      ],
      "execution_count": null,
      "outputs": [
        {
          "output_type": "stream",
          "text": [
            "<class 'pandas.core.frame.DataFrame'>\n",
            "Int64Index: 297 entries, 0 to 301\n",
            "Data columns (total 13 columns):\n",
            " #   Column     Non-Null Count  Dtype  \n",
            "---  ------     --------------  -----  \n",
            " 0   age        297 non-null    float64\n",
            " 1   sex        297 non-null    float64\n",
            " 2   chestpain  297 non-null    float64\n",
            " 3   restbp     297 non-null    float64\n",
            " 4   chol       297 non-null    float64\n",
            " 5   fbs        297 non-null    float64\n",
            " 6   restecg    297 non-null    float64\n",
            " 7   thalach    297 non-null    float64\n",
            " 8   exang      297 non-null    float64\n",
            " 9   oldpeak    297 non-null    float64\n",
            " 10  slope      297 non-null    float64\n",
            " 11  ca         297 non-null    object \n",
            " 12  thal       297 non-null    object \n",
            "dtypes: float64(11), object(2)\n",
            "memory usage: 32.5+ KB\n"
          ],
          "name": "stdout"
        }
      ]
    },
    {
      "cell_type": "markdown",
      "metadata": {
        "id": "cqI4s-flubbG"
      },
      "source": [
        "most of the data is category but it is float"
      ]
    },
    {
      "cell_type": "markdown",
      "metadata": {
        "id": "5yqzB3ECuz7l"
      },
      "source": [
        "chest pain has four options:\n",
        "1: typical angina\n",
        "2:atypivcal angina\n",
        "3:non anginals pain\n",
        "4:asymtomatic"
      ]
    },
    {
      "cell_type": "code",
      "metadata": {
        "colab": {
          "base_uri": "https://localhost:8080/"
        },
        "id": "5LcNP-KvuwpB",
        "outputId": "a9715480-f533-46a6-b005-4c6e4407cdbc"
      },
      "source": [
        "X['chestpain'].unique()"
      ],
      "execution_count": null,
      "outputs": [
        {
          "output_type": "execute_result",
          "data": {
            "text/plain": [
              "array([1., 4., 3., 2.])"
            ]
          },
          "metadata": {
            "tags": []
          },
          "execution_count": 21
        }
      ]
    },
    {
      "cell_type": "markdown",
      "metadata": {
        "id": "JiXL2wRnvaHU"
      },
      "source": [
        "(two method for one hot encoding\n",
        "column transformer and get dummies)"
      ]
    },
    {
      "cell_type": "code",
      "metadata": {
        "colab": {
          "base_uri": "https://localhost:8080/",
          "height": 204
        },
        "id": "u8itxdiEtxu0",
        "outputId": "a69eb33b-bdc0-4e1b-be86-25c9be05a6bf"
      },
      "source": [
        "pd.get_dummies(X,columns=['chestpain']).head()"
      ],
      "execution_count": null,
      "outputs": [
        {
          "output_type": "execute_result",
          "data": {
            "text/html": [
              "<div>\n",
              "<style scoped>\n",
              "    .dataframe tbody tr th:only-of-type {\n",
              "        vertical-align: middle;\n",
              "    }\n",
              "\n",
              "    .dataframe tbody tr th {\n",
              "        vertical-align: top;\n",
              "    }\n",
              "\n",
              "    .dataframe thead th {\n",
              "        text-align: right;\n",
              "    }\n",
              "</style>\n",
              "<table border=\"1\" class=\"dataframe\">\n",
              "  <thead>\n",
              "    <tr style=\"text-align: right;\">\n",
              "      <th></th>\n",
              "      <th>age</th>\n",
              "      <th>sex</th>\n",
              "      <th>restbp</th>\n",
              "      <th>chol</th>\n",
              "      <th>fbs</th>\n",
              "      <th>restecg</th>\n",
              "      <th>thalach</th>\n",
              "      <th>exang</th>\n",
              "      <th>oldpeak</th>\n",
              "      <th>slope</th>\n",
              "      <th>ca</th>\n",
              "      <th>thal</th>\n",
              "      <th>chestpain_1.0</th>\n",
              "      <th>chestpain_2.0</th>\n",
              "      <th>chestpain_3.0</th>\n",
              "      <th>chestpain_4.0</th>\n",
              "    </tr>\n",
              "  </thead>\n",
              "  <tbody>\n",
              "    <tr>\n",
              "      <th>0</th>\n",
              "      <td>63.0</td>\n",
              "      <td>1.0</td>\n",
              "      <td>145.0</td>\n",
              "      <td>233.0</td>\n",
              "      <td>1.0</td>\n",
              "      <td>2.0</td>\n",
              "      <td>150.0</td>\n",
              "      <td>0.0</td>\n",
              "      <td>2.3</td>\n",
              "      <td>3.0</td>\n",
              "      <td>0.0</td>\n",
              "      <td>6.0</td>\n",
              "      <td>1</td>\n",
              "      <td>0</td>\n",
              "      <td>0</td>\n",
              "      <td>0</td>\n",
              "    </tr>\n",
              "    <tr>\n",
              "      <th>1</th>\n",
              "      <td>67.0</td>\n",
              "      <td>1.0</td>\n",
              "      <td>160.0</td>\n",
              "      <td>286.0</td>\n",
              "      <td>0.0</td>\n",
              "      <td>2.0</td>\n",
              "      <td>108.0</td>\n",
              "      <td>1.0</td>\n",
              "      <td>1.5</td>\n",
              "      <td>2.0</td>\n",
              "      <td>3.0</td>\n",
              "      <td>3.0</td>\n",
              "      <td>0</td>\n",
              "      <td>0</td>\n",
              "      <td>0</td>\n",
              "      <td>1</td>\n",
              "    </tr>\n",
              "    <tr>\n",
              "      <th>2</th>\n",
              "      <td>67.0</td>\n",
              "      <td>1.0</td>\n",
              "      <td>120.0</td>\n",
              "      <td>229.0</td>\n",
              "      <td>0.0</td>\n",
              "      <td>2.0</td>\n",
              "      <td>129.0</td>\n",
              "      <td>1.0</td>\n",
              "      <td>2.6</td>\n",
              "      <td>2.0</td>\n",
              "      <td>2.0</td>\n",
              "      <td>7.0</td>\n",
              "      <td>0</td>\n",
              "      <td>0</td>\n",
              "      <td>0</td>\n",
              "      <td>1</td>\n",
              "    </tr>\n",
              "    <tr>\n",
              "      <th>3</th>\n",
              "      <td>37.0</td>\n",
              "      <td>1.0</td>\n",
              "      <td>130.0</td>\n",
              "      <td>250.0</td>\n",
              "      <td>0.0</td>\n",
              "      <td>0.0</td>\n",
              "      <td>187.0</td>\n",
              "      <td>0.0</td>\n",
              "      <td>3.5</td>\n",
              "      <td>3.0</td>\n",
              "      <td>0.0</td>\n",
              "      <td>3.0</td>\n",
              "      <td>0</td>\n",
              "      <td>0</td>\n",
              "      <td>1</td>\n",
              "      <td>0</td>\n",
              "    </tr>\n",
              "    <tr>\n",
              "      <th>4</th>\n",
              "      <td>41.0</td>\n",
              "      <td>0.0</td>\n",
              "      <td>130.0</td>\n",
              "      <td>204.0</td>\n",
              "      <td>0.0</td>\n",
              "      <td>2.0</td>\n",
              "      <td>172.0</td>\n",
              "      <td>0.0</td>\n",
              "      <td>1.4</td>\n",
              "      <td>1.0</td>\n",
              "      <td>0.0</td>\n",
              "      <td>3.0</td>\n",
              "      <td>0</td>\n",
              "      <td>1</td>\n",
              "      <td>0</td>\n",
              "      <td>0</td>\n",
              "    </tr>\n",
              "  </tbody>\n",
              "</table>\n",
              "</div>"
            ],
            "text/plain": [
              "    age  sex  restbp  ...  chestpain_2.0  chestpain_3.0  chestpain_4.0\n",
              "0  63.0  1.0   145.0  ...              0              0              0\n",
              "1  67.0  1.0   160.0  ...              0              0              1\n",
              "2  67.0  1.0   120.0  ...              0              0              1\n",
              "3  37.0  1.0   130.0  ...              0              1              0\n",
              "4  41.0  0.0   130.0  ...              1              0              0\n",
              "\n",
              "[5 rows x 16 columns]"
            ]
          },
          "metadata": {
            "tags": []
          },
          "execution_count": 22
        }
      ]
    },
    {
      "cell_type": "code",
      "metadata": {
        "id": "GrxU5W1HuTsi"
      },
      "source": [
        "X_encoded=pd.get_dummies(X,columns=['chestpain',\n",
        "                                    'restecg',\n",
        "                                    'slope',\n",
        "                                    'thal'])"
      ],
      "execution_count": null,
      "outputs": []
    },
    {
      "cell_type": "code",
      "metadata": {
        "colab": {
          "base_uri": "https://localhost:8080/",
          "height": 224
        },
        "id": "1FcjA3B-wEFh",
        "outputId": "5a6856d1-07f7-4d39-9949-1d8019a6e51e"
      },
      "source": [
        "X_encoded.head()"
      ],
      "execution_count": null,
      "outputs": [
        {
          "output_type": "execute_result",
          "data": {
            "text/html": [
              "<div>\n",
              "<style scoped>\n",
              "    .dataframe tbody tr th:only-of-type {\n",
              "        vertical-align: middle;\n",
              "    }\n",
              "\n",
              "    .dataframe tbody tr th {\n",
              "        vertical-align: top;\n",
              "    }\n",
              "\n",
              "    .dataframe thead th {\n",
              "        text-align: right;\n",
              "    }\n",
              "</style>\n",
              "<table border=\"1\" class=\"dataframe\">\n",
              "  <thead>\n",
              "    <tr style=\"text-align: right;\">\n",
              "      <th></th>\n",
              "      <th>age</th>\n",
              "      <th>sex</th>\n",
              "      <th>restbp</th>\n",
              "      <th>chol</th>\n",
              "      <th>fbs</th>\n",
              "      <th>thalach</th>\n",
              "      <th>exang</th>\n",
              "      <th>oldpeak</th>\n",
              "      <th>ca</th>\n",
              "      <th>chestpain_1.0</th>\n",
              "      <th>chestpain_2.0</th>\n",
              "      <th>chestpain_3.0</th>\n",
              "      <th>chestpain_4.0</th>\n",
              "      <th>restecg_0.0</th>\n",
              "      <th>restecg_1.0</th>\n",
              "      <th>restecg_2.0</th>\n",
              "      <th>slope_1.0</th>\n",
              "      <th>slope_2.0</th>\n",
              "      <th>slope_3.0</th>\n",
              "      <th>thal_3.0</th>\n",
              "      <th>thal_6.0</th>\n",
              "      <th>thal_7.0</th>\n",
              "    </tr>\n",
              "  </thead>\n",
              "  <tbody>\n",
              "    <tr>\n",
              "      <th>0</th>\n",
              "      <td>63.0</td>\n",
              "      <td>1.0</td>\n",
              "      <td>145.0</td>\n",
              "      <td>233.0</td>\n",
              "      <td>1.0</td>\n",
              "      <td>150.0</td>\n",
              "      <td>0.0</td>\n",
              "      <td>2.3</td>\n",
              "      <td>0.0</td>\n",
              "      <td>1</td>\n",
              "      <td>0</td>\n",
              "      <td>0</td>\n",
              "      <td>0</td>\n",
              "      <td>0</td>\n",
              "      <td>0</td>\n",
              "      <td>1</td>\n",
              "      <td>0</td>\n",
              "      <td>0</td>\n",
              "      <td>1</td>\n",
              "      <td>0</td>\n",
              "      <td>1</td>\n",
              "      <td>0</td>\n",
              "    </tr>\n",
              "    <tr>\n",
              "      <th>1</th>\n",
              "      <td>67.0</td>\n",
              "      <td>1.0</td>\n",
              "      <td>160.0</td>\n",
              "      <td>286.0</td>\n",
              "      <td>0.0</td>\n",
              "      <td>108.0</td>\n",
              "      <td>1.0</td>\n",
              "      <td>1.5</td>\n",
              "      <td>3.0</td>\n",
              "      <td>0</td>\n",
              "      <td>0</td>\n",
              "      <td>0</td>\n",
              "      <td>1</td>\n",
              "      <td>0</td>\n",
              "      <td>0</td>\n",
              "      <td>1</td>\n",
              "      <td>0</td>\n",
              "      <td>1</td>\n",
              "      <td>0</td>\n",
              "      <td>1</td>\n",
              "      <td>0</td>\n",
              "      <td>0</td>\n",
              "    </tr>\n",
              "    <tr>\n",
              "      <th>2</th>\n",
              "      <td>67.0</td>\n",
              "      <td>1.0</td>\n",
              "      <td>120.0</td>\n",
              "      <td>229.0</td>\n",
              "      <td>0.0</td>\n",
              "      <td>129.0</td>\n",
              "      <td>1.0</td>\n",
              "      <td>2.6</td>\n",
              "      <td>2.0</td>\n",
              "      <td>0</td>\n",
              "      <td>0</td>\n",
              "      <td>0</td>\n",
              "      <td>1</td>\n",
              "      <td>0</td>\n",
              "      <td>0</td>\n",
              "      <td>1</td>\n",
              "      <td>0</td>\n",
              "      <td>1</td>\n",
              "      <td>0</td>\n",
              "      <td>0</td>\n",
              "      <td>0</td>\n",
              "      <td>1</td>\n",
              "    </tr>\n",
              "    <tr>\n",
              "      <th>3</th>\n",
              "      <td>37.0</td>\n",
              "      <td>1.0</td>\n",
              "      <td>130.0</td>\n",
              "      <td>250.0</td>\n",
              "      <td>0.0</td>\n",
              "      <td>187.0</td>\n",
              "      <td>0.0</td>\n",
              "      <td>3.5</td>\n",
              "      <td>0.0</td>\n",
              "      <td>0</td>\n",
              "      <td>0</td>\n",
              "      <td>1</td>\n",
              "      <td>0</td>\n",
              "      <td>1</td>\n",
              "      <td>0</td>\n",
              "      <td>0</td>\n",
              "      <td>0</td>\n",
              "      <td>0</td>\n",
              "      <td>1</td>\n",
              "      <td>1</td>\n",
              "      <td>0</td>\n",
              "      <td>0</td>\n",
              "    </tr>\n",
              "    <tr>\n",
              "      <th>4</th>\n",
              "      <td>41.0</td>\n",
              "      <td>0.0</td>\n",
              "      <td>130.0</td>\n",
              "      <td>204.0</td>\n",
              "      <td>0.0</td>\n",
              "      <td>172.0</td>\n",
              "      <td>0.0</td>\n",
              "      <td>1.4</td>\n",
              "      <td>0.0</td>\n",
              "      <td>0</td>\n",
              "      <td>1</td>\n",
              "      <td>0</td>\n",
              "      <td>0</td>\n",
              "      <td>0</td>\n",
              "      <td>0</td>\n",
              "      <td>1</td>\n",
              "      <td>1</td>\n",
              "      <td>0</td>\n",
              "      <td>0</td>\n",
              "      <td>1</td>\n",
              "      <td>0</td>\n",
              "      <td>0</td>\n",
              "    </tr>\n",
              "  </tbody>\n",
              "</table>\n",
              "</div>"
            ],
            "text/plain": [
              "    age  sex  restbp   chol  ...  slope_3.0  thal_3.0  thal_6.0  thal_7.0\n",
              "0  63.0  1.0   145.0  233.0  ...          1         0         1         0\n",
              "1  67.0  1.0   160.0  286.0  ...          0         1         0         0\n",
              "2  67.0  1.0   120.0  229.0  ...          0         0         0         1\n",
              "3  37.0  1.0   130.0  250.0  ...          1         1         0         0\n",
              "4  41.0  0.0   130.0  204.0  ...          0         1         0         0\n",
              "\n",
              "[5 rows x 22 columns]"
            ]
          },
          "metadata": {
            "tags": []
          },
          "execution_count": 24
        }
      ]
    },
    {
      "cell_type": "code",
      "metadata": {
        "colab": {
          "base_uri": "https://localhost:8080/"
        },
        "id": "3PDc6Ut0wEPh",
        "outputId": "173abec2-b18a-4356-955a-59e45102c354"
      },
      "source": [
        "y.unique()"
      ],
      "execution_count": null,
      "outputs": [
        {
          "output_type": "execute_result",
          "data": {
            "text/plain": [
              "array([0, 2, 1, 3, 4])"
            ]
          },
          "metadata": {
            "tags": []
          },
          "execution_count": 25
        }
      ]
    },
    {
      "cell_type": "code",
      "metadata": {
        "colab": {
          "base_uri": "https://localhost:8080/"
        },
        "id": "X3uX9-c8wETp",
        "outputId": "7ffebdb4-9019-40aa-e024-59525ed0e480"
      },
      "source": [
        "y_not_zero_index=y>0 # value gether than 0 we convert into 1\n",
        "y[y_not_zero_index]=1\n",
        "y.unique()"
      ],
      "execution_count": null,
      "outputs": [
        {
          "output_type": "execute_result",
          "data": {
            "text/plain": [
              "array([0, 1])"
            ]
          },
          "metadata": {
            "tags": []
          },
          "execution_count": 26
        }
      ]
    },
    {
      "cell_type": "markdown",
      "metadata": {
        "id": "SkmFmd2-x3yA"
      },
      "source": [
        "Building classification tree"
      ]
    },
    {
      "cell_type": "code",
      "metadata": {
        "id": "fDV2yrzoxZrS"
      },
      "source": [
        "from sklearn.model_selection import train_test_split\n",
        "from sklearn.tree import DecisionTreeClassifier\n",
        "X_train, X_test, y_train, y_test=train_test_split(X_encoded,y,random_state=42)\n",
        "\n"
      ],
      "execution_count": null,
      "outputs": []
    },
    {
      "cell_type": "code",
      "metadata": {
        "id": "-y2QD0JTxaEJ"
      },
      "source": [
        "clf_dt=DecisionTreeClassifier(random_state=42)\n",
        "clf_dt=clf_dt.fit(X_train,y_train)"
      ],
      "execution_count": null,
      "outputs": []
    },
    {
      "cell_type": "code",
      "metadata": {
        "colab": {
          "base_uri": "https://localhost:8080/",
          "height": 439
        },
        "id": "3_VoMEixxad6",
        "outputId": "e533897d-aaa3-48ed-a17d-9beb386afa78"
      },
      "source": [
        "from sklearn.tree import plot_tree\n",
        "plt.figure(figsize=(15,7.5))\n",
        "plot_tree(clf_dt,\n",
        "          filled=True,\n",
        "          rounded=True,\n",
        "          class_names=[\"NO HD\",\"Yes HD\"],\n",
        "          feature_names=X_encoded.columns);"
      ],
      "execution_count": null,
      "outputs": [
        {
          "output_type": "display_data",
          "data": {
            "image/png": "[encoded data removed]",
            "text/plain": [
              "<Figure size 1080x540 with 1 Axes>"
            ]
          },
          "metadata": {
            "tags": [],
            "needs_background": "light"
          }
        }
      ]
    },
    {
      "cell_type": "code",
      "metadata": {
        "colab": {
          "base_uri": "https://localhost:8080/",
          "height": 296
        },
        "id": "1rj3T9f0xa6y",
        "outputId": "a12e97e4-3334-4374-ccb3-fe01b04a1490"
      },
      "source": [
        "from sklearn.metrics import plot_confusion_matrix \n",
        "plot_confusion_matrix(clf_dt,X_test, y_test, display_labels=[\"no hd\",\"has hd\"])"
      ],
      "execution_count": null,
      "outputs": [
        {
          "output_type": "execute_result",
          "data": {
            "text/plain": [
              "<sklearn.metrics._plot.confusion_matrix.ConfusionMatrixDisplay at 0x7f5fe9a15f10>"
            ]
          },
          "metadata": {
            "tags": []
          },
          "execution_count": 30
        },
        {
          "output_type": "display_data",
          "data": {
            "image/png": "[encoded data removed]",
            "text/plain": [
              "<Figure size 432x288 with 2 Axes>"
            ]
          },
          "metadata": {
            "tags": [],
            "needs_background": "light"
          }
        }
      ]
    },
    {
      "cell_type": "markdown",
      "metadata": {
        "id": "bH8pzUPC2_kQ"
      },
      "source": [
        "cost complexity pruning"
      ]
    },
    {
      "cell_type": "code",
      "metadata": {
        "id": "nlDJEc4HxbPO"
      },
      "source": [
        "#determiming the alpha\n",
        "path=clf_dt.cost_complexity_pruning_path(X_train,y_train)\n",
        "ccp_alphas=path.ccp_alphas # extract differt value of alpha\n",
        "ccp_alphas=ccp_alphas[:-1] # max value od alpha\n",
        " # create an array that will put decison tres into\n",
        "clf_dts=[]\n",
        "for ccp_alpha in ccp_alphas:\n",
        "  clf_dt=DecisionTreeClassifier(random_state=0,ccp_alpha=ccp_alpha)\n",
        "  clf_dt.fit(X_train,y_train)\n",
        "  clf_dts.append(clf_dt)\n",
        "\n",
        "\n"
      ],
      "execution_count": null,
      "outputs": []
    },
    {
      "cell_type": "code",
      "metadata": {
        "id": "tdcPG2Yjxbgl"
      },
      "source": [
        "train_scores=[clf_dt.score(X_train,y_train) for clf_dt in clf_dts]\n",
        "test_scores=[clf_dt.score(X_test,y_test) for clf_dt in clf_dts]"
      ],
      "execution_count": null,
      "outputs": []
    },
    {
      "cell_type": "code",
      "metadata": {
        "colab": {
          "base_uri": "https://localhost:8080/",
          "height": 295
        },
        "id": "Pmpp9XHjxbxi",
        "outputId": "05d0f354-ed0a-48f1-cb10-3ba3e5550afb"
      },
      "source": [
        "fig,ax=plt.subplots()\n",
        "ax.set_xlabel('alpha')\n",
        "ax.set_ylabel('accuracy')\n",
        "ax.set_title('accuracy vs alpha')\n",
        "ax.plot(ccp_alphas,train_scores,marker='o',label='train',drawstyle='steps-post')\n",
        "ax.plot(ccp_alphas,test_scores,marker='o',label='test',drawstyle='steps-post')\n",
        "plt.legend()\n",
        "plt.show()"
      ],
      "execution_count": null,
      "outputs": [
        {
          "output_type": "display_data",
          "data": {
            "image/png": "[encoded data removed]",
            "text/plain": [
              "<Figure size 432x288 with 1 Axes>"
            ]
          },
          "metadata": {
            "tags": [],
            "needs_background": "light"
          }
        }
      ]
    },
    {
      "cell_type": "markdown",
      "metadata": {
        "id": "r1AgNzPH7Yjz"
      },
      "source": [
        "cross validation for finding alpha"
      ]
    },
    {
      "cell_type": "code",
      "metadata": {
        "id": "EyME7ED8wEXc"
      },
      "source": [
        "clf_dt=DecisionTreeClassifier(random_state=42,ccp_alpha=0.016) # create a tre with ccp alpha =0.016\n",
        "# now we use 5 fold cross validation create 5 different training and test dataset that are used to train and test\n",
        "scores=cross_val_score(clf_dt,X_train,y_train,cv=5)\n",
        "\n"
      ],
      "execution_count": null,
      "outputs": []
    },
    {
      "cell_type": "code",
      "metadata": {
        "id": "c9QQ4OizwEcG",
        "colab": {
          "base_uri": "https://localhost:8080/",
          "height": 282
        },
        "outputId": "5e0b5fcc-ae85-4b48-ee08-038abd0ecd0b"
      },
      "source": [
        "df=pd.DataFrame(data={\"tree\": range(5),\"accuracy\":scores})\n",
        "df.plot(scalex=\"tree\",scaley=\"accuracy\",marker=\"o\",linestyle=\"--\")"
      ],
      "execution_count": null,
      "outputs": [
        {
          "output_type": "execute_result",
          "data": {
            "text/plain": [
              "<matplotlib.axes._subplots.AxesSubplot at 0x7f5fe28394d0>"
            ]
          },
          "metadata": {
            "tags": []
          },
          "execution_count": 49
        },
        {
          "output_type": "display_data",
          "data": {
            "image/png": "[encoded data removed]",
            "text/plain": [
              "<Figure size 432x288 with 1 Axes>"
            ]
          },
          "metadata": {
            "tags": [],
            "needs_background": "light"
          }
        }
      ]
    },
    {
      "cell_type": "markdown",
      "metadata": {
        "id": "exgWN0zeRgq_"
      },
      "source": [
        "thr graph shows that using traing and tes data with the same  alpha resulted in different acccuracies suggesting that alpha is sensitive to the dataset so intesd a singlr traing andtest dataset lets use cross validation to find  the optomal value \n"
      ]
    },
    {
      "cell_type": "code",
      "metadata": {
        "id": "5goLi0ujwEf4"
      },
      "source": [
        "alpha_loop_values=[]\n",
        "# for each candidate value for alpha we will run 5 fold cross validation then we will store the mean and std deviation of the scores the accuracy for each call to cross val scoreis alpha lop value"
      ],
      "execution_count": null,
      "outputs": []
    },
    {
      "cell_type": "code",
      "metadata": {
        "id": "LAXNuCbhwEjq"
      },
      "source": [
        "for ccp_alpha in ccp_alphas:\n",
        "  clf_dt=DecisionTreeClassifier(random_state=0,ccp_alpha=ccp_alpha)\n",
        "  scores=cross_val_score(clf_dt,X_train,y_train,cv=5)\n",
        "  alpha_loop_values.append([ccp_alpha,np.mean(scores),np.std(scores)])"
      ],
      "execution_count": null,
      "outputs": []
    },
    {
      "cell_type": "code",
      "metadata": {
        "id": "hszqwjimwEpL",
        "colab": {
          "base_uri": "https://localhost:8080/",
          "height": 299
        },
        "outputId": "81b63ad5-961a-4ce3-97cc-88e50e1640dc"
      },
      "source": [
        "alpha_results=pd.DataFrame(alpha_loop_values,columns=[\"alpha\",\"mean_accuracy\",\"std\"])\n",
        "alpha_results.plot(x=\"alpha\",y=\"mean_accuracy\",yerr=\"std\",marker=\"o\",linestyle=\"--\")"
      ],
      "execution_count": null,
      "outputs": [
        {
          "output_type": "execute_result",
          "data": {
            "text/plain": [
              "<matplotlib.axes._subplots.AxesSubplot at 0x7f5fe2756310>"
            ]
          },
          "metadata": {
            "tags": []
          },
          "execution_count": 55
        },
        {
          "output_type": "display_data",
          "data": {
            "image/png": "[encoded data removed]",
            "text/plain": [
              "<Figure size 432x288 with 1 Axes>"
            ]
          },
          "metadata": {
            "tags": [],
            "needs_background": "light"
          }
        }
      ]
    },
    {
      "cell_type": "code",
      "metadata": {
        "id": "cAlsiaitwEtQ",
        "colab": {
          "base_uri": "https://localhost:8080/",
          "height": 80
        },
        "outputId": "01f8b42a-a646-4e5c-de13-9a8819bdfb6b"
      },
      "source": [
        "alpha_results[(alpha_results[\"alpha\"]>0.014)\n",
        "              &\n",
        "              (alpha_results[\"alpha\"]<0.015)]"
      ],
      "execution_count": null,
      "outputs": [
        {
          "output_type": "execute_result",
          "data": {
            "text/html": [
              "<div>\n",
              "<style scoped>\n",
              "    .dataframe tbody tr th:only-of-type {\n",
              "        vertical-align: middle;\n",
              "    }\n",
              "\n",
              "    .dataframe tbody tr th {\n",
              "        vertical-align: top;\n",
              "    }\n",
              "\n",
              "    .dataframe thead th {\n",
              "        text-align: right;\n",
              "    }\n",
              "</style>\n",
              "<table border=\"1\" class=\"dataframe\">\n",
              "  <thead>\n",
              "    <tr style=\"text-align: right;\">\n",
              "      <th></th>\n",
              "      <th>alpha</th>\n",
              "      <th>mean_accuracy</th>\n",
              "      <th>std</th>\n",
              "    </tr>\n",
              "  </thead>\n",
              "  <tbody>\n",
              "    <tr>\n",
              "      <th>20</th>\n",
              "      <td>0.014225</td>\n",
              "      <td>0.747778</td>\n",
              "      <td>0.091395</td>\n",
              "    </tr>\n",
              "  </tbody>\n",
              "</table>\n",
              "</div>"
            ],
            "text/plain": [
              "       alpha  mean_accuracy       std\n",
              "20  0.014225       0.747778  0.091395"
            ]
          },
          "metadata": {
            "tags": []
          },
          "execution_count": 56
        }
      ]
    },
    {
      "cell_type": "markdown",
      "metadata": {
        "id": "pnDzsGLQU7Fu"
      },
      "source": [
        "lets store the ideal value for alpha so thst we use it to build a tree"
      ]
    },
    {
      "cell_type": "code",
      "metadata": {
        "id": "jP0HD5KkuT8F"
      },
      "source": [
        "ideal_ccp_alpha=alpha_results[(alpha_results[\"alpha\"]>0.014)\n",
        "                              &\n",
        "                              (alpha_results[\"alpha\"]<0.015)][\"alpha\"]\n"
      ],
      "execution_count": null,
      "outputs": []
    },
    {
      "cell_type": "markdown",
      "metadata": {
        "id": "ej7qsNbkVu8s"
      },
      "source": [
        "at this point pyhton thinkd thst is series which is tpye of array we can tell because when we printed ideal ccp alpha out we got of stuff the first one is 20 which is the index in the eries the second one 0.01422 is the value we went so we can covert it to float"
      ]
    },
    {
      "cell_type": "code",
      "metadata": {
        "id": "e-_tCbaNtx-0",
        "colab": {
          "base_uri": "https://localhost:8080/"
        },
        "outputId": "1bb7bbd5-be59-4ece-eeaa-b2619583518b"
      },
      "source": [
        "ideal_ccp_alpha"
      ],
      "execution_count": null,
      "outputs": [
        {
          "output_type": "execute_result",
          "data": {
            "text/plain": [
              "20    0.014225\n",
              "Name: alpha, dtype: float64"
            ]
          },
          "metadata": {
            "tags": []
          },
          "execution_count": 59
        }
      ]
    },
    {
      "cell_type": "code",
      "metadata": {
        "id": "lVbx-PLDsvnJ",
        "colab": {
          "base_uri": "https://localhost:8080/"
        },
        "outputId": "dd9376c1-d64d-4c64-edb2-657267e1e11a"
      },
      "source": [
        "ideal_ccp_alpha=float(ideal_ccp_alpha)\n",
        "ideal_ccp_alpha"
      ],
      "execution_count": null,
      "outputs": [
        {
          "output_type": "execute_result",
          "data": {
            "text/plain": [
              "0.014224751066856332"
            ]
          },
          "metadata": {
            "tags": []
          },
          "execution_count": 60
        }
      ]
    },
    {
      "cell_type": "markdown",
      "metadata": {
        "id": "5C1IFbOqWnOM"
      },
      "source": [
        "we can find alpha using grid search also"
      ]
    },
    {
      "cell_type": "markdown",
      "metadata": {
        "id": "TYuqNjYFWv5I"
      },
      "source": [
        "Building final classification tree"
      ]
    },
    {
      "cell_type": "code",
      "metadata": {
        "id": "6cfJIZDpsvqd"
      },
      "source": [
        "# build and train a new decision tree only this time we use optimal value for alpha"
      ],
      "execution_count": null,
      "outputs": []
    },
    {
      "cell_type": "code",
      "metadata": {
        "id": "BWOQtB1ksvtg"
      },
      "source": [
        "clf_dt_pruned=DecisionTreeClassifier(random_state=42,ccp_alpha=ideal_ccp_alpha)"
      ],
      "execution_count": null,
      "outputs": []
    },
    {
      "cell_type": "code",
      "metadata": {
        "id": "gIECSijRsvws"
      },
      "source": [
        "clf_dt_pruned=clf_dt_pruned.fit(X_train,y_train)"
      ],
      "execution_count": null,
      "outputs": []
    },
    {
      "cell_type": "code",
      "metadata": {
        "id": "mohucHKlsv0L",
        "colab": {
          "base_uri": "https://localhost:8080/",
          "height": 296
        },
        "outputId": "44e69307-5c3c-463b-bc33-2e05e3f38cbf"
      },
      "source": [
        "plot_confusion_matrix(clf_dt_pruned,X_test,y_test,display_labels=['does not have hd','has hd'])"
      ],
      "execution_count": null,
      "outputs": [
        {
          "output_type": "execute_result",
          "data": {
            "text/plain": [
              "<sklearn.metrics._plot.confusion_matrix.ConfusionMatrixDisplay at 0x7f5fe231aa50>"
            ]
          },
          "metadata": {
            "tags": []
          },
          "execution_count": 64
        },
        {
          "output_type": "display_data",
          "data": {
            "image/png": "[encoded data removed]",
            "text/plain": [
              "<Figure size 432x288 with 2 Axes>"
            ]
          },
          "metadata": {
            "tags": [],
            "needs_background": "light"
          }
        }
      ]
    },
    {
      "cell_type": "markdown",
      "metadata": {
        "id": "wnZggRTOYAzi"
      },
      "source": [
        "pruned tree better than before"
      ]
    },
    {
      "cell_type": "code",
      "metadata": {
        "id": "z49l7xTesv31",
        "colab": {
          "base_uri": "https://localhost:8080/",
          "height": 439
        },
        "outputId": "c844602f-becf-4a44-aeb5-888ec7da5f80"
      },
      "source": [
        "plt.figure(figsize=(15,7.5))\n",
        "plot_tree(clf_dt_pruned,filled=True,rounded=True,class_names=[\"no hd\",\"yes hd\"],feature_names=X_encoded.columns);"
      ],
      "execution_count": null,
      "outputs": [
        {
          "output_type": "display_data",
          "data": {
            "image/png": "[encoded data removed]",
            "text/plain": [
              "<Figure size 1080x540 with 1 Axes>"
            ]
          },
          "metadata": {
            "tags": [],
            "needs_background": "light"
          }
        }
      ]
    },
    {
      "cell_type": "code",
      "metadata": {
        "id": "phWDHVshsv7E",
        "colab": {
          "base_uri": "https://localhost:8080/",
          "height": 660
        },
        "outputId": "f9c74d03-5ea4-4e0b-dbb5-d64d2af2d2dc"
      },
      "source": [
        "plt.figure(figsize=(15,7.5))\n",
        "plot_tree(clf_dt_pruned,filled=True,rounded=True,class_names=[\"no hd\",\"yes hd\"],feature_names=X_encoded.columns)"
      ],
      "execution_count": null,
      "outputs": [
        {
          "output_type": "execute_result",
          "data": {
            "text/plain": [
              "[Text(482.8846153846154, 356.7375, 'ca <= 0.5\\ngini = 0.498\\nsamples = 222\\nvalue = [118, 104]\\nclass = no hd'),\n",
              " Text(257.53846153846155, 254.8125, 'thal_7.0 <= 0.5\\ngini = 0.382\\nsamples = 132\\nvalue = [98, 34]\\nclass = no hd'),\n",
              " Text(128.76923076923077, 152.8875, 'oldpeak <= 2.7\\ngini = 0.24\\nsamples = 93\\nvalue = [80, 13]\\nclass = no hd'),\n",
              " Text(64.38461538461539, 50.96249999999998, 'gini = 0.185\\nsamples = 87\\nvalue = [78, 9]\\nclass = no hd'),\n",
              " Text(193.15384615384616, 50.96249999999998, 'gini = 0.444\\nsamples = 6\\nvalue = [2, 4]\\nclass = yes hd'),\n",
              " Text(386.3076923076923, 152.8875, 'chestpain_4.0 <= 0.5\\ngini = 0.497\\nsamples = 39\\nvalue = [18, 21]\\nclass = yes hd'),\n",
              " Text(321.9230769230769, 50.96249999999998, 'gini = 0.42\\nsamples = 20\\nvalue = [14, 6]\\nclass = no hd'),\n",
              " Text(450.69230769230774, 50.96249999999998, 'gini = 0.332\\nsamples = 19\\nvalue = [4, 15]\\nclass = yes hd'),\n",
              " Text(708.2307692307693, 254.8125, 'chestpain_4.0 <= 0.5\\ngini = 0.346\\nsamples = 90\\nvalue = [20, 70]\\nclass = yes hd'),\n",
              " Text(643.8461538461538, 152.8875, 'oldpeak <= 0.55\\ngini = 0.499\\nsamples = 31\\nvalue = [16, 15]\\nclass = no hd'),\n",
              " Text(579.4615384615385, 50.96249999999998, 'gini = 0.401\\nsamples = 18\\nvalue = [13, 5]\\nclass = no hd'),\n",
              " Text(708.2307692307693, 50.96249999999998, 'gini = 0.355\\nsamples = 13\\nvalue = [3, 10]\\nclass = yes hd'),\n",
              " Text(772.6153846153846, 152.8875, 'gini = 0.126\\nsamples = 59\\nvalue = [4, 55]\\nclass = yes hd')]"
            ]
          },
          "metadata": {
            "tags": []
          },
          "execution_count": 68
        },
        {
          "output_type": "display_data",
          "data": {
            "image/png": "[encoded data removed]",
            "text/plain": [
              "<Figure size 1080x540 with 1 Axes>"
            ]
          },
          "metadata": {
            "tags": [],
            "needs_background": "light"
          }
        }
      ]
    },
    {
      "cell_type": "markdown",
      "metadata": {
        "id": "XYi69RmUa7gJ"
      },
      "source": [
        "lets dicuss how to interpret the treee\n",
        ".) the vrible (columnsnames) and the threshold for splitting the observation for example in the tree's root we use ca to split the observation all observation with ca<=0.5 go to the left and all observation with ca>0.5 go to right\n",
        ".)gini is the index or score  for that node\n",
        ".) samples tell as how many samples are in the node\n",
        ",.)value telss us how many samoples in thr nodes are  din each category  in the example we have  two catehoirs No and YES refferoing to whether or not paitent haas heart disease  number NO cmes fisrt beacuse of alphabetic order \n",
        ".) class tells us whetherv  category is repremted most in the node in the root ,in thr root since 118 poppele hae no and only 104 has YES so CLASs set to NO\n"
      ]
    }
  ]
}