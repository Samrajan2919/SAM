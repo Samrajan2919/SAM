{
  "nbformat": 4,
  "nbformat_minor": 0,
  "metadata": {
    "colab": {
      "name": "image classification",
      "provenance": [],
      "collapsed_sections": [],
      "authorship_tag": "ABX9TyNSx/4WrM0mQX5WPFzJ5bHp",
      "include_colab_link": true
    },
    "kernelspec": {
      "name": "python3",
      "display_name": "Python 3"
    },
    "language_info": {
      "name": "python"
    },
    "accelerator": "GPU"
  },
  "cells": [
    {
      "cell_type": "markdown",
      "metadata": {
        "id": "view-in-github",
        "colab_type": "text"
      },
      "source": [
        "<a href=\"https://colab.research.google.com/github/Samrajan2919/SAM/blob/master/image_classification.ipynb\" target=\"_parent\"><img src=\"https://colab.research.google.com/assets/colab-badge.svg\" alt=\"Open In Colab\"/></a>"
      ]
    },
    {
      "cell_type": "code",
      "metadata": {
        "id": "EyNJP3EJuDsR"
      },
      "source": [
        "import tensorflow as tf\n",
        "from tensorflow.keras import datasets, layers, models\n",
        "import matplotlib.pyplot as plt\n",
        "import numpy as np"
      ],
      "execution_count": null,
      "outputs": []
    },
    {
      "cell_type": "code",
      "metadata": {
        "id": "lm-ITokSv7SR"
      },
      "source": [
        ""
      ],
      "execution_count": null,
      "outputs": []
    },
    {
      "cell_type": "code",
      "metadata": {
        "colab": {
          "base_uri": "https://localhost:8080/"
        },
        "id": "VDa0bpLwvYW7",
        "outputId": "36da9e57-120b-42f1-cb1b-3538b0d5ebcc"
      },
      "source": [
        "(x_train,y_train),(x_teat,y_test)=datasets.cifar10.load_data()"
      ],
      "execution_count": null,
      "outputs": [
        {
          "output_type": "stream",
          "text": [
            "Downloading data from https://www.cs.toronto.edu/~kriz/cifar-10-python.tar.gz\n",
            "170500096/170498071 [==============================] - 2s 0us/step\n"
          ],
          "name": "stdout"
        }
      ]
    },
    {
      "cell_type": "code",
      "metadata": {
        "colab": {
          "base_uri": "https://localhost:8080/"
        },
        "id": "RUNLf83fvTTA",
        "outputId": "e4c6e397-b22d-4202-d801-ec057d76bdad"
      },
      "source": [
        "x_train.shape"
      ],
      "execution_count": null,
      "outputs": [
        {
          "output_type": "execute_result",
          "data": {
            "text/plain": [
              "(50000, 32, 32, 3)"
            ]
          },
          "metadata": {
            "tags": []
          },
          "execution_count": 7
        }
      ]
    },
    {
      "cell_type": "code",
      "metadata": {
        "colab": {
          "base_uri": "https://localhost:8080/"
        },
        "id": "JVXdgCEAvTee",
        "outputId": "6a543a89-d564-4029-cd02-2e7a2a8b50e2"
      },
      "source": [
        "x_teat.shape"
      ],
      "execution_count": null,
      "outputs": [
        {
          "output_type": "execute_result",
          "data": {
            "text/plain": [
              "(10000, 32, 32, 3)"
            ]
          },
          "metadata": {
            "tags": []
          },
          "execution_count": 8
        }
      ]
    },
    {
      "cell_type": "code",
      "metadata": {
        "colab": {
          "base_uri": "https://localhost:8080/"
        },
        "id": "3nqGy-LjvTqX",
        "outputId": "7abb064a-7ddb-494a-f365-db77299671a6"
      },
      "source": [
        "x_train[0]\n"
      ],
      "execution_count": null,
      "outputs": [
        {
          "output_type": "execute_result",
          "data": {
            "text/plain": [
              "array([[[ 59,  62,  63],\n",
              "        [ 43,  46,  45],\n",
              "        [ 50,  48,  43],\n",
              "        ...,\n",
              "        [158, 132, 108],\n",
              "        [152, 125, 102],\n",
              "        [148, 124, 103]],\n",
              "\n",
              "       [[ 16,  20,  20],\n",
              "        [  0,   0,   0],\n",
              "        [ 18,   8,   0],\n",
              "        ...,\n",
              "        [123,  88,  55],\n",
              "        [119,  83,  50],\n",
              "        [122,  87,  57]],\n",
              "\n",
              "       [[ 25,  24,  21],\n",
              "        [ 16,   7,   0],\n",
              "        [ 49,  27,   8],\n",
              "        ...,\n",
              "        [118,  84,  50],\n",
              "        [120,  84,  50],\n",
              "        [109,  73,  42]],\n",
              "\n",
              "       ...,\n",
              "\n",
              "       [[208, 170,  96],\n",
              "        [201, 153,  34],\n",
              "        [198, 161,  26],\n",
              "        ...,\n",
              "        [160, 133,  70],\n",
              "        [ 56,  31,   7],\n",
              "        [ 53,  34,  20]],\n",
              "\n",
              "       [[180, 139,  96],\n",
              "        [173, 123,  42],\n",
              "        [186, 144,  30],\n",
              "        ...,\n",
              "        [184, 148,  94],\n",
              "        [ 97,  62,  34],\n",
              "        [ 83,  53,  34]],\n",
              "\n",
              "       [[177, 144, 116],\n",
              "        [168, 129,  94],\n",
              "        [179, 142,  87],\n",
              "        ...,\n",
              "        [216, 184, 140],\n",
              "        [151, 118,  84],\n",
              "        [123,  92,  72]]], dtype=uint8)"
            ]
          },
          "metadata": {
            "tags": []
          },
          "execution_count": 9
        }
      ]
    },
    {
      "cell_type": "code",
      "metadata": {
        "colab": {
          "base_uri": "https://localhost:8080/",
          "height": 283
        },
        "id": "8jfn4VSQvSxZ",
        "outputId": "10b750f9-9e53-49c5-b79f-853a3355b5e5"
      },
      "source": [
        "plt.imshow(x_train[0])"
      ],
      "execution_count": null,
      "outputs": [
        {
          "output_type": "execute_result",
          "data": {
            "text/plain": [
              "<matplotlib.image.AxesImage at 0x7fceed29ea90>"
            ]
          },
          "metadata": {
            "tags": []
          },
          "execution_count": 10
        },
        {
          "output_type": "display_data",
          "data": {
            "image/png": "[encoded data removed]",
            "text/plain": [
              "<Figure size 432x288 with 1 Axes>"
            ]
          },
          "metadata": {
            "tags": [],
            "needs_background": "light"
          }
        }
      ]
    },
    {
      "cell_type": "code",
      "metadata": {
        "colab": {
          "base_uri": "https://localhost:8080/",
          "height": 283
        },
        "id": "KCOua_KqwzHd",
        "outputId": "6d32ef7e-1708-4bdb-87b5-50f5d76ffde9"
      },
      "source": [
        "plt.imshow(x_train[1])"
      ],
      "execution_count": null,
      "outputs": [
        {
          "output_type": "execute_result",
          "data": {
            "text/plain": [
              "<matplotlib.image.AxesImage at 0x7fceecd33190>"
            ]
          },
          "metadata": {
            "tags": []
          },
          "execution_count": 11
        },
        {
          "output_type": "display_data",
          "data": {
            "image/png": "[encoded data removed]",
            "text/plain": [
              "<Figure size 432x288 with 1 Axes>"
            ]
          },
          "metadata": {
            "tags": [],
            "needs_background": "light"
          }
        }
      ]
    },
    {
      "cell_type": "code",
      "metadata": {
        "colab": {
          "base_uri": "https://localhost:8080/"
        },
        "id": "-mvh0_CPxa6V",
        "outputId": "72c79cec-cc67-4539-b33c-dee6494e9dea"
      },
      "source": [
        "# 2d into 1d\n",
        "y_train=y_train.reshape(-1,)\n",
        "y_train[:5]"
      ],
      "execution_count": null,
      "outputs": [
        {
          "output_type": "execute_result",
          "data": {
            "text/plain": [
              "array([6, 9, 9, 4, 1], dtype=uint8)"
            ]
          },
          "metadata": {
            "tags": []
          },
          "execution_count": 16
        }
      ]
    },
    {
      "cell_type": "code",
      "metadata": {
        "id": "chDoMZqLw5Ta"
      },
      "source": [
        "def plot(x,y,index):\n",
        "  plt.figure(figsize=(15,2))\n",
        "  plt.imshow(x[index])\n",
        "  \n"
      ],
      "execution_count": null,
      "outputs": []
    },
    {
      "cell_type": "code",
      "metadata": {
        "colab": {
          "base_uri": "https://localhost:8080/"
        },
        "id": "pSREQkGKzSBz",
        "outputId": "f31be721-d863-4e16-e67a-670f63e4b41a"
      },
      "source": [
        "x_train[0]"
      ],
      "execution_count": null,
      "outputs": [
        {
          "output_type": "execute_result",
          "data": {
            "text/plain": [
              "array([[[0.00090734, 0.00095348, 0.00096886],\n",
              "        [0.00066128, 0.00070742, 0.00069204],\n",
              "        [0.00076894, 0.00073818, 0.00066128],\n",
              "        ...,\n",
              "        [0.00242983, 0.00202999, 0.0016609 ],\n",
              "        [0.00233756, 0.00192234, 0.00156863],\n",
              "        [0.00227605, 0.00190696, 0.00158401]],\n",
              "\n",
              "       [[0.00024606, 0.00030757, 0.00030757],\n",
              "        [0.        , 0.        , 0.        ],\n",
              "        [0.00027682, 0.00012303, 0.        ],\n",
              "        ...,\n",
              "        [0.00189158, 0.00135333, 0.00084583],\n",
              "        [0.00183007, 0.00127643, 0.00076894],\n",
              "        [0.0018762 , 0.00133795, 0.00087659]],\n",
              "\n",
              "       [[0.00038447, 0.00036909, 0.00032295],\n",
              "        [0.00024606, 0.00010765, 0.        ],\n",
              "        [0.00075356, 0.00041522, 0.00012303],\n",
              "        ...,\n",
              "        [0.00181469, 0.00129181, 0.00076894],\n",
              "        [0.00184544, 0.00129181, 0.00076894],\n",
              "        [0.00167628, 0.00112265, 0.00064591]],\n",
              "\n",
              "       ...,\n",
              "\n",
              "       [[0.00319877, 0.00261438, 0.00147636],\n",
              "        [0.00309112, 0.00235294, 0.00052288],\n",
              "        [0.00304498, 0.00247597, 0.00039985],\n",
              "        ...,\n",
              "        [0.00246059, 0.00204537, 0.00107651],\n",
              "        [0.00086121, 0.00047674, 0.00010765],\n",
              "        [0.00081507, 0.00052288, 0.00030757]],\n",
              "\n",
              "       [[0.00276817, 0.00213764, 0.00147636],\n",
              "        [0.00266052, 0.00189158, 0.00064591],\n",
              "        [0.00286044, 0.00221453, 0.00046136],\n",
              "        ...,\n",
              "        [0.00282968, 0.00227605, 0.0014456 ],\n",
              "        [0.00149173, 0.00095348, 0.00052288],\n",
              "        [0.00127643, 0.00081507, 0.00052288]],\n",
              "\n",
              "       [[0.00272203, 0.00221453, 0.00178393],\n",
              "        [0.00258362, 0.00198385, 0.0014456 ],\n",
              "        [0.00275279, 0.00218378, 0.00133795],\n",
              "        ...,\n",
              "        [0.0033218 , 0.00282968, 0.00215302],\n",
              "        [0.00232218, 0.00181469, 0.00129181],\n",
              "        [0.00189158, 0.00141484, 0.00110727]]])"
            ]
          },
          "metadata": {
            "tags": []
          },
          "execution_count": 25
        }
      ]
    },
    {
      "cell_type": "code",
      "metadata": {
        "colab": {
          "base_uri": "https://localhost:8080/",
          "height": 159
        },
        "id": "JBLIRagyy-nL",
        "outputId": "3c236964-b309-438b-b113-d7c8893ac0a6"
      },
      "source": [
        "plot(x_train,y_train,3)"
      ],
      "execution_count": null,
      "outputs": [
        {
          "output_type": "display_data",
          "data": {
            "image/png": "[encoded data removed]",
            "text/plain": [
              "<Figure size 1080x144 with 1 Axes>"
            ]
          },
          "metadata": {
            "tags": [],
            "needs_background": "light"
          }
        }
      ]
    },
    {
      "cell_type": "code",
      "metadata": {
        "id": "1YmMOMp1zhdQ"
      },
      "source": [
        "# 0 to 1 raxnge\n",
        "x_train=x_train/255\n",
        "x_teat=x_teat/255"
      ],
      "execution_count": null,
      "outputs": []
    },
    {
      "cell_type": "code",
      "metadata": {
        "colab": {
          "base_uri": "https://localhost:8080/"
        },
        "id": "iKiGAiR_0SMM",
        "outputId": "02351f4c-f370-49fb-9d55-a0e3187f1d75"
      },
      "source": [
        "x_train[0]"
      ],
      "execution_count": null,
      "outputs": [
        {
          "output_type": "execute_result",
          "data": {
            "text/plain": [
              "array([[[0.00090734, 0.00095348, 0.00096886],\n",
              "        [0.00066128, 0.00070742, 0.00069204],\n",
              "        [0.00076894, 0.00073818, 0.00066128],\n",
              "        ...,\n",
              "        [0.00242983, 0.00202999, 0.0016609 ],\n",
              "        [0.00233756, 0.00192234, 0.00156863],\n",
              "        [0.00227605, 0.00190696, 0.00158401]],\n",
              "\n",
              "       [[0.00024606, 0.00030757, 0.00030757],\n",
              "        [0.        , 0.        , 0.        ],\n",
              "        [0.00027682, 0.00012303, 0.        ],\n",
              "        ...,\n",
              "        [0.00189158, 0.00135333, 0.00084583],\n",
              "        [0.00183007, 0.00127643, 0.00076894],\n",
              "        [0.0018762 , 0.00133795, 0.00087659]],\n",
              "\n",
              "       [[0.00038447, 0.00036909, 0.00032295],\n",
              "        [0.00024606, 0.00010765, 0.        ],\n",
              "        [0.00075356, 0.00041522, 0.00012303],\n",
              "        ...,\n",
              "        [0.00181469, 0.00129181, 0.00076894],\n",
              "        [0.00184544, 0.00129181, 0.00076894],\n",
              "        [0.00167628, 0.00112265, 0.00064591]],\n",
              "\n",
              "       ...,\n",
              "\n",
              "       [[0.00319877, 0.00261438, 0.00147636],\n",
              "        [0.00309112, 0.00235294, 0.00052288],\n",
              "        [0.00304498, 0.00247597, 0.00039985],\n",
              "        ...,\n",
              "        [0.00246059, 0.00204537, 0.00107651],\n",
              "        [0.00086121, 0.00047674, 0.00010765],\n",
              "        [0.00081507, 0.00052288, 0.00030757]],\n",
              "\n",
              "       [[0.00276817, 0.00213764, 0.00147636],\n",
              "        [0.00266052, 0.00189158, 0.00064591],\n",
              "        [0.00286044, 0.00221453, 0.00046136],\n",
              "        ...,\n",
              "        [0.00282968, 0.00227605, 0.0014456 ],\n",
              "        [0.00149173, 0.00095348, 0.00052288],\n",
              "        [0.00127643, 0.00081507, 0.00052288]],\n",
              "\n",
              "       [[0.00272203, 0.00221453, 0.00178393],\n",
              "        [0.00258362, 0.00198385, 0.0014456 ],\n",
              "        [0.00275279, 0.00218378, 0.00133795],\n",
              "        ...,\n",
              "        [0.0033218 , 0.00282968, 0.00215302],\n",
              "        [0.00232218, 0.00181469, 0.00129181],\n",
              "        [0.00189158, 0.00141484, 0.00110727]]])"
            ]
          },
          "metadata": {
            "tags": []
          },
          "execution_count": 24
        }
      ]
    },
    {
      "cell_type": "code",
      "metadata": {
        "id": "eVP3M7OFz8uy"
      },
      "source": [
        "cnn=models.Sequential([\n",
        "                       layers.Conv2D(filters=32,kernel_size=(3,3),activation='relu',input_shape=(32,32,3)),\n",
        "                       layers.MaxPooling2D(2,2),\n",
        "                       layers.Flatten(),\n",
        "                       layers.Dense(64,activation='relu'),\n",
        "                       layers.Dense(10,activation='softmax')\n",
        "])"
      ],
      "execution_count": null,
      "outputs": []
    },
    {
      "cell_type": "code",
      "metadata": {
        "id": "6hFvjpKT1zwV"
      },
      "source": [
        "cnn.compile(optimizer='adam',loss='sparse_categorical_crossentropy',\n",
        "            metrics=['accuracy'])"
      ],
      "execution_count": null,
      "outputs": []
    },
    {
      "cell_type": "code",
      "metadata": {
        "colab": {
          "base_uri": "https://localhost:8080/"
        },
        "id": "kuwTXoLnzIf3",
        "outputId": "f0337f11-ccfe-4d20-c11c-45543570cfa8"
      },
      "source": [
        "cnn.fit(x_train,y_train,epochs=50)"
      ],
      "execution_count": null,
      "outputs": [
        {
          "output_type": "stream",
          "text": [
            "Epoch 1/25\n",
            "1563/1563 [==============================] - 7s 4ms/step - loss: 1.6101 - accuracy: 0.4283\n",
            "Epoch 2/25\n",
            "1563/1563 [==============================] - 7s 4ms/step - loss: 1.5944 - accuracy: 0.4341\n",
            "Epoch 3/25\n",
            "1563/1563 [==============================] - 7s 4ms/step - loss: 1.5765 - accuracy: 0.4423\n",
            "Epoch 4/25\n",
            "1563/1563 [==============================] - 7s 4ms/step - loss: 1.5613 - accuracy: 0.4457\n",
            "Epoch 5/25\n",
            "1563/1563 [==============================] - 6s 4ms/step - loss: 1.5485 - accuracy: 0.4506\n",
            "Epoch 6/25\n",
            "1563/1563 [==============================] - 7s 4ms/step - loss: 1.5329 - accuracy: 0.4556\n",
            "Epoch 7/25\n",
            "1563/1563 [==============================] - 6s 4ms/step - loss: 1.5228 - accuracy: 0.4589\n",
            "Epoch 8/25\n",
            "1563/1563 [==============================] - 7s 4ms/step - loss: 1.5125 - accuracy: 0.4638\n",
            "Epoch 9/25\n",
            "1563/1563 [==============================] - 6s 4ms/step - loss: 1.5023 - accuracy: 0.4666\n",
            "Epoch 10/25\n",
            "1563/1563 [==============================] - 7s 4ms/step - loss: 1.4935 - accuracy: 0.4683\n",
            "Epoch 11/25\n",
            "1563/1563 [==============================] - 7s 4ms/step - loss: 1.4858 - accuracy: 0.4708\n",
            "Epoch 12/25\n",
            "1563/1563 [==============================] - 7s 4ms/step - loss: 1.4778 - accuracy: 0.4743\n",
            "Epoch 13/25\n",
            "1563/1563 [==============================] - 7s 4ms/step - loss: 1.4705 - accuracy: 0.4772\n",
            "Epoch 14/25\n",
            "1563/1563 [==============================] - 7s 4ms/step - loss: 1.4635 - accuracy: 0.4791\n",
            "Epoch 15/25\n",
            "1563/1563 [==============================] - 7s 4ms/step - loss: 1.4566 - accuracy: 0.4829\n",
            "Epoch 16/25\n",
            "1563/1563 [==============================] - 6s 4ms/step - loss: 1.4501 - accuracy: 0.4841\n",
            "Epoch 17/25\n",
            "1563/1563 [==============================] - 7s 4ms/step - loss: 1.4436 - accuracy: 0.4875\n",
            "Epoch 18/25\n",
            "1563/1563 [==============================] - 6s 4ms/step - loss: 1.4384 - accuracy: 0.4877\n",
            "Epoch 19/25\n",
            "1563/1563 [==============================] - 7s 4ms/step - loss: 1.4330 - accuracy: 0.4907\n",
            "Epoch 20/25\n",
            "1563/1563 [==============================] - 7s 4ms/step - loss: 1.4272 - accuracy: 0.4930\n",
            "Epoch 21/25\n",
            "1563/1563 [==============================] - 6s 4ms/step - loss: 1.4247 - accuracy: 0.4946\n",
            "Epoch 22/25\n",
            "1563/1563 [==============================] - 7s 4ms/step - loss: 1.4189 - accuracy: 0.4957\n",
            "Epoch 23/25\n",
            "1563/1563 [==============================] - 7s 4ms/step - loss: 1.4114 - accuracy: 0.4990\n",
            "Epoch 24/25\n",
            "1563/1563 [==============================] - 7s 4ms/step - loss: 1.4076 - accuracy: 0.4999\n",
            "Epoch 25/25\n",
            "1563/1563 [==============================] - 6s 4ms/step - loss: 1.4026 - accuracy: 0.5003\n"
          ],
          "name": "stdout"
        },
        {
          "output_type": "execute_result",
          "data": {
            "text/plain": [
              "<tensorflow.python.keras.callbacks.History at 0x7fce3d93ebd0>"
            ]
          },
          "metadata": {
            "tags": []
          },
          "execution_count": 33
        }
      ]
    },
    {
      "cell_type": "code",
      "metadata": {
        "colab": {
          "base_uri": "https://localhost:8080/",
          "height": 159
        },
        "id": "lWC29dfx3Itr",
        "outputId": "b35e0efa-eb0d-4197-aa7c-b9c7f926b733"
      },
      "source": [
        "plot(x_teat,y_test,1)\n"
      ],
      "execution_count": null,
      "outputs": [
        {
          "output_type": "display_data",
          "data": {
            "image/png": "[encoded data removed]",
            "text/plain": [
              "<Figure size 1080x144 with 1 Axes>"
            ]
          },
          "metadata": {
            "tags": [],
            "needs_background": "light"
          }
        }
      ]
    },
    {
      "cell_type": "code",
      "metadata": {
        "colab": {
          "base_uri": "https://localhost:8080/"
        },
        "id": "NUQAsoZk3Ukv",
        "outputId": "2a329480-9c41-4f36-992d-f316e538a661"
      },
      "source": [
        "y_pred=cnn.predict(x_teat)\n",
        "y_pred[:5]"
      ],
      "execution_count": null,
      "outputs": [
        {
          "output_type": "execute_result",
          "data": {
            "text/plain": [
              "array([[0., 1., 0., 0., 0., 0., 0., 0., 0., 0.],\n",
              "       [0., 1., 0., 0., 0., 0., 0., 0., 0., 0.],\n",
              "       [0., 1., 0., 0., 0., 0., 0., 0., 0., 0.],\n",
              "       [0., 1., 0., 0., 0., 0., 0., 0., 0., 0.],\n",
              "       [0., 1., 0., 0., 0., 0., 0., 0., 0., 0.]], dtype=float32)"
            ]
          },
          "metadata": {
            "tags": []
          },
          "execution_count": 37
        }
      ]
    },
    {
      "cell_type": "code",
      "metadata": {
        "colab": {
          "base_uri": "https://localhost:8080/"
        },
        "id": "utC-7OnA3k_1",
        "outputId": "a1b006c3-fd45-4238-c852-44f8dd804532"
      },
      "source": [
        "y_class=[np.argmax(element) for element in y_pred]\n",
        "y_class[1]"
      ],
      "execution_count": 41,
      "outputs": [
        {
          "output_type": "execute_result",
          "data": {
            "text/plain": [
              "1"
            ]
          },
          "metadata": {
            "tags": []
          },
          "execution_count": 41
        }
      ]
    }
  ]
}